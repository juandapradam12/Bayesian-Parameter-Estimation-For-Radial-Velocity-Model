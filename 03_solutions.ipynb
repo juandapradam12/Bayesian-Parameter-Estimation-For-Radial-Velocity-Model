{
  "nbformat": 4,
  "nbformat_minor": 0,
  "metadata": {
    "colab": {
      "name": "03_solutions.ipynb",
      "provenance": [],
      "toc_visible": true,
      "include_colab_link": true
    },
    "kernelspec": {
      "name": "ir",
      "display_name": "R"
    },
    "language_info": {
      "name": "R"
    }
  },
  "cells": [
    {
      "cell_type": "markdown",
      "metadata": {
        "id": "view-in-github",
        "colab_type": "text"
      },
      "source": [
        "<a href=\"https://colab.research.google.com/github/juandapradam12/Bayesian-Parameter-Estimation-For-Radial-Velocity-Model/blob/master/03_solutions.ipynb\" target=\"_parent\"><img src=\"https://colab.research.google.com/assets/colab-badge.svg\" alt=\"Open In Colab\"/></a>"
      ]
    },
    {
      "cell_type": "markdown",
      "metadata": {
        "id": "3DNkrEwortX2"
      },
      "source": [
        "# Welcome\n",
        "\n",
        "![](https://socialdatascience.network/courses/poster/r.png)\n",
        "\n",
        "**Welcome to the Intro to R Programming Workshop!**\n",
        "\n",
        "This is the solutions notebook. Only check this out if you want to see the solutions to the exercises!\n",
        "\n",
        "For Part I click [here](https://colab.research.google.com/drive/1dLsdGbkvgn1JbWgsy9Z-pFmPd_2MG4Xu?usp=sharing)\n",
        "\n",
        "For Part II click [here](https://colab.research.google.com/drive/14CRElnKewnp5MnlxhqVu6OOcIXd-Bkaj?usp=sharing).\n",
        "\n",
        "Link to Slides: https://favstats.github.io/ds3_r_intro/\n"
      ]
    },
    {
      "cell_type": "markdown",
      "metadata": {
        "id": "EKjl-4MAnXn_"
      },
      "source": [
        "# Exercises I\n",
        "\n",
        "The following includes a list of exercises that you can complete on your own. \n"
      ]
    },
    {
      "cell_type": "markdown",
      "metadata": {
        "id": "xsQ4j9ZkfLsS"
      },
      "source": [
        "## Task 1\n",
        "\n",
        "Take a look at the table below. \n",
        "\n",
        "Pick three animals from the Animal Lifespan data we haven't talked about yet. \n",
        "\n",
        "Assign the lifespan values to respective objects with appropriate names.\n",
        "\n",
        "| Animal | Maximum Longevity (in years)|\n",
        "| --- | --- | \n",
        "| Human | 122.5.5 | \n",
        "| Domestic dog | 24.0 | \n",
        "| Domestic cat | 30.0 | \n",
        "| American alligator | 77.0 | \n",
        "| Golden hamster | 3.9 | \n",
        "| King penguin | 26.0 | \n",
        "| Lion|\t27.0 | \n",
        "| Greenland shark\t | 392.0 | \n",
        "| Galapagos tortoise | 177.0 | \n",
        "| African bush elephant\t | 65.0 | \n",
        "| California sea lion\t| 35.7\t | \n",
        "| Fruit fly\t\t| 0.3\t | \n",
        "| House mouse\t\t| 4.0\t |\n",
        "| Giraffe\t\t| 39.5\t |\n",
        "| Wild boar\t\t| 27.0\t|"
      ]
    },
    {
      "cell_type": "code",
      "metadata": {
        "id": "PUSRP4Alo4sq"
      },
      "source": [
        "giraffe_lifespan <- 29.5"
      ],
      "execution_count": null,
      "outputs": []
    },
    {
      "cell_type": "code",
      "metadata": {
        "id": "0Lj2172dqO8V"
      },
      "source": [
        "penguin_lifespan <- 26"
      ],
      "execution_count": null,
      "outputs": []
    },
    {
      "cell_type": "code",
      "metadata": {
        "id": "fD_31Wv3qPAf"
      },
      "source": [
        "elephant_lifespan <- 65"
      ],
      "execution_count": null,
      "outputs": []
    },
    {
      "cell_type": "markdown",
      "metadata": {
        "id": "WD82xkkZdwt7"
      },
      "source": [
        "## Task 2\n",
        "\n",
        "Create three (different) logical tests which compare the maximum longevity between your chosen animal lifespans.\n",
        "\n",
        "Does the output you get make sense?"
      ]
    },
    {
      "cell_type": "code",
      "metadata": {
        "id": "LKRyx8Ksd-zP"
      },
      "source": [
        "giraffe_lifespan == penguin_lifespan"
      ],
      "execution_count": null,
      "outputs": []
    },
    {
      "cell_type": "code",
      "metadata": {
        "id": "wnVxujmXd_Ki"
      },
      "source": [
        "giraffe_lifespan > penguin_lifespan "
      ],
      "execution_count": null,
      "outputs": []
    },
    {
      "cell_type": "code",
      "metadata": {
        "id": "9Savb8cJy4eD"
      },
      "source": [
        "elephant_lifespan != penguin_lifespan"
      ],
      "execution_count": null,
      "outputs": []
    },
    {
      "cell_type": "markdown",
      "metadata": {
        "id": "c_kdn4B0dSsE"
      },
      "source": [
        "## Task 3\n",
        "\n",
        "Create two vectors with the help of `c()`: \n",
        "\n",
        "1.  strings (i.e. texts) of all the animals you chose\n",
        "2.  the respective lifespan values (in the same order)"
      ]
    },
    {
      "cell_type": "code",
      "metadata": {
        "id": "4wFZSbTUdnXF"
      },
      "source": [
        "theanimals <- c(\"giraffe\", \"penguin\", \"elephant\")"
      ],
      "execution_count": null,
      "outputs": []
    },
    {
      "cell_type": "code",
      "metadata": {
        "id": "aCjHhKgQqzJX"
      },
      "source": [
        "lifespans <- c(giraffe_lifespan, penguin_lifespan, elephant_lifespan)"
      ],
      "execution_count": null,
      "outputs": []
    },
    {
      "cell_type": "markdown",
      "metadata": {
        "id": "6Cmk_J5dkZ5x"
      },
      "source": [
        "## Task 4\n",
        "\n",
        "Calculate the mean of your lifespan vector."
      ]
    },
    {
      "cell_type": "code",
      "metadata": {
        "id": "9ak3l34hkd6y"
      },
      "source": [
        "mean(lifespans)"
      ],
      "execution_count": null,
      "outputs": []
    },
    {
      "cell_type": "markdown",
      "metadata": {
        "id": "P_dSD-NOgJQt"
      },
      "source": [
        "## Task 5\n",
        "\n",
        "5.1 Retrieve the *second* value of the vector that contains your animal names.\n",
        "\n",
        "> Tip: Square brackets are your friend."
      ]
    },
    {
      "cell_type": "code",
      "metadata": {
        "id": "OiPsTiEMhHjG"
      },
      "source": [
        "theanimals[2]"
      ],
      "execution_count": null,
      "outputs": []
    },
    {
      "cell_type": "markdown",
      "metadata": {
        "id": "MWoKxAlphsnq"
      },
      "source": [
        "\n",
        "5.2 Using code, find out which animals in your lifespans vector have a maximum longevity of above 25.\n",
        "\n",
        "> Tip: For an elegant solution you need to use *both* vectors, square brackets and a logical test. If you need help revisit [Indexing with logical tests](https://colab.research.google.com/drive/1dLsdGbkvgn1JbWgsy9Z-pFmPd_2MG4Xu#scrollTo=5cAxOXBv8KZ6)"
      ]
    },
    {
      "cell_type": "code",
      "metadata": {
        "id": "ZtT5id-YjC-t"
      },
      "source": [
        "theanimals[lifespans > 25]"
      ],
      "execution_count": null,
      "outputs": []
    },
    {
      "cell_type": "markdown",
      "metadata": {
        "id": "dyejLU_ko5GR"
      },
      "source": [
        "## Task 6\n",
        "\n",
        "Calculate the animal to human conversion ratios for the animals you've picked and assign the results to an object.\n",
        "\n"
      ]
    },
    {
      "cell_type": "code",
      "metadata": {
        "id": "vY9WXa6lo6un"
      },
      "source": [
        "conversions <- 122.5/lifespans"
      ],
      "execution_count": null,
      "outputs": []
    },
    {
      "cell_type": "markdown",
      "metadata": {
        "id": "99_BJtkZo7Lg"
      },
      "source": [
        "## Task 7\n",
        "\n",
        "Calculate the human years for your picked animals and assume they are all 5 years old.\n",
        "\n"
      ]
    },
    {
      "cell_type": "code",
      "metadata": {
        "id": "EdG94ovao8Y6",
        "colab": {
          "base_uri": "https://localhost:8080/",
          "height": 97
        },
        "outputId": "9b5c54fa-c634-4305-a9de-5d035142d927"
      },
      "source": [
        "conversions*5"
      ],
      "execution_count": null,
      "outputs": [
        {
          "output_type": "error",
          "ename": "ERROR",
          "evalue": "ignored",
          "traceback": [
            "Error in eval(expr, envir, enclos): object 'conversions' not found\nTraceback:\n"
          ]
        }
      ]
    },
    {
      "cell_type": "markdown",
      "metadata": {
        "id": "19tnxEpGo8xo"
      },
      "source": [
        "## Task 8\n",
        "\n",
        "Pick one of the animals you chose and create a function which takes as input animal years and outputs human years. Test the function and validate with results from the seventh exercise.\n",
        "\n",
        "You can name the function in this style: \n",
        "\n",
        "`[you_animal_name]_to_human_years`\n",
        "\n",
        "> Tip: If you need help revisit the section [Dog to Human years function](https://colab.research.google.com/drive/1dLsdGbkvgn1JbWgsy9Z-pFmPd_2MG4Xu#scrollTo=wOvZ0HEWjaHQ&line=3&uniqifier=1)\n",
        "\n",
        "Create the function here:\n",
        "\n"
      ]
    },
    {
      "cell_type": "code",
      "metadata": {
        "id": "NYeZs57lo9OG"
      },
      "source": [
        "penguin_to_human_years <- function(animal_years, human_lifespan = 122.5, penguin_lifespan = 26){\n",
        "\n",
        "  ratio <- human_lifespan/penguin_lifespan\n",
        "\n",
        "  human_years <- animal_years*ratio\n",
        "\n",
        "  return(human_years)\n",
        "}"
      ],
      "execution_count": null,
      "outputs": []
    },
    {
      "cell_type": "markdown",
      "metadata": {
        "id": "Wg83iq78jQs5"
      },
      "source": [
        "Try it out here:"
      ]
    },
    {
      "cell_type": "code",
      "metadata": {
        "id": "BV-Gzwz2jSqL"
      },
      "source": [
        "penguin_to_human_years(5)"
      ],
      "execution_count": null,
      "outputs": []
    },
    {
      "cell_type": "markdown",
      "metadata": {
        "id": "F29F-ZQLsP73"
      },
      "source": [
        "# Exercises II\n",
        "\n",
        "The following includes a list of exercises that you can complete on your own. \n",
        "\n",
        "We are going to use the `palmerpenguins` dataset for the tasks ahead!\n",
        "\n",
        "\n",
        "\n",
        "![](https://github.com/allisonhorst/palmerpenguins/raw/master/man/figures/lter_penguins.png)\n",
        "\n",
        "![](https://github.com/allisonhorst/palmerpenguins/raw/master/man/figures/culmen_depth.png)"
      ]
    },
    {
      "cell_type": "markdown",
      "metadata": {
        "id": "rGzSMParhLNW"
      },
      "source": [
        "## Functions reference list\n",
        "\n",
        "For reference, here is a list of some useful  functions.\n",
        "\n",
        "If you have trouble with any of these functions, try reading the documentation with `?function_name`\n",
        "\n",
        "Remember: all these functions take the **data** first.\n",
        "\n",
        "* `filter()`\n",
        "\n",
        "  * Subset rows using column values\n",
        "\n",
        "* `mutate()`\n",
        "\n",
        "  * Create and modify delete columns\n",
        "\n",
        "* `rename()`\n",
        "\n",
        "  * Rename columns\n",
        "\n",
        "* `select()`\n",
        "\n",
        "  * Subset columns using their names and types\n",
        "\n",
        "* `summarise()`; `summarize()`\n",
        "\n",
        "  * Summarise each group to fewer rows\n",
        "\n",
        "* `group_by()`; `ungroup()`\n",
        "\n",
        "  * Group by one or more variables\n",
        "\n",
        "* `arrange()`\n",
        "\n",
        "  * Arrange rows by column values\n",
        "\n",
        "* `count()`; `tally()` \n",
        "\n",
        "  * Count observations by group\n",
        "\n",
        "* `distinct()`\n",
        "\n",
        "  * Subset distinct/unique rows\n",
        "\n",
        "* `pull()`\n",
        "\n",
        "  * Extract a single column\n",
        "\n",
        "* `ifelse()`\n",
        "\n",
        "  * useful for coding of binary variables\n",
        "\n",
        "* `case_when()`\n",
        "\n",
        "  * useful for recoding (when `ifelse` is not enough)\n",
        "\n",
        "* `separate()`\n",
        "\n",
        "  * separate two variables by some separator\n",
        "\n",
        "* `pivot_wider()`\n",
        "\n",
        "  * turn data into wide format\n",
        "\n",
        "* `pivot_longer()`\n",
        "\n",
        "  * turn data into long format\n"
      ]
    },
    {
      "cell_type": "markdown",
      "metadata": {
        "id": "AR6ZOl8LsP7-"
      },
      "source": [
        "## Task 1\n",
        "\n",
        "Load the `tidyverse` and `janitor` packages.\n",
        "\n",
        "If `janitor` is not installed yet (it will say `janitor` not found) install it."
      ]
    },
    {
      "cell_type": "code",
      "metadata": {
        "id": "yqfagIgnsP8B"
      },
      "source": [
        "library(tidyverse)\n",
        "library(janitor)"
      ],
      "execution_count": null,
      "outputs": []
    },
    {
      "cell_type": "markdown",
      "metadata": {
        "id": "ZHP78gvosP8D"
      },
      "source": [
        "## Task 2\n",
        "\n",
        "Read in the already cleaned `palmerpenguins` dataset using \n",
        "\n",
        "* `read_csv`\n",
        "* the following url: https://raw.githubusercontent.com/allisonhorst/palmerpenguins/master/inst/extdata/penguins.csv\n",
        "\n",
        "Assign the resulting data to `penguins`.\n",
        "\n",
        "Then take a look a look at it using `glimpse`. \n",
        "\n",
        "What kind of variables can you recognize?"
      ]
    },
    {
      "cell_type": "code",
      "metadata": {
        "id": "lF60cZrIsP8H"
      },
      "source": [
        "penguins <- read_csv(\"https://raw.githubusercontent.com/allisonhorst/palmerpenguins/master/inst/extdata/penguins.csv\")"
      ],
      "execution_count": null,
      "outputs": []
    },
    {
      "cell_type": "code",
      "metadata": {
        "id": "1mKVaNdDQChz"
      },
      "source": [
        "glimpse(penguins)"
      ],
      "execution_count": null,
      "outputs": []
    },
    {
      "cell_type": "markdown",
      "metadata": {
        "id": "6uF2PwjfsP8N"
      },
      "source": [
        "## Task 3\n",
        "\n",
        "Only keep the variables: `species`, `island` and `sex`."
      ]
    },
    {
      "cell_type": "code",
      "metadata": {
        "id": "6vqiMXDmH3SR"
      },
      "source": [
        "select(penguins, species, island, sex)"
      ],
      "execution_count": null,
      "outputs": []
    },
    {
      "cell_type": "code",
      "metadata": {
        "id": "B9hJ7AfZsP8R"
      },
      "source": [
        "penguins %>%\n",
        "   select(species, island, sex)"
      ],
      "execution_count": null,
      "outputs": []
    },
    {
      "cell_type": "markdown",
      "metadata": {
        "id": "Xs72GsH_Aqlu"
      },
      "source": [
        "Only keep variables 2 to 4."
      ]
    },
    {
      "cell_type": "code",
      "metadata": {
        "id": "g33Dh-xAAvgA"
      },
      "source": [
        "select(penguins, 2:4)"
      ],
      "execution_count": null,
      "outputs": []
    },
    {
      "cell_type": "code",
      "metadata": {
        "id": "oZtVCizYIFEx"
      },
      "source": [
        "penguins %>%\n",
        "   select(2:4)"
      ],
      "execution_count": null,
      "outputs": []
    },
    {
      "cell_type": "markdown",
      "metadata": {
        "id": "xUxkQpArAwyV"
      },
      "source": [
        "Remove the column `year`."
      ]
    },
    {
      "cell_type": "code",
      "metadata": {
        "id": "SCnW8mjpA7Wd"
      },
      "source": [
        "select(penguins, -year)"
      ],
      "execution_count": null,
      "outputs": []
    },
    {
      "cell_type": "code",
      "metadata": {
        "id": "Cr-dSe-xIDrR"
      },
      "source": [
        "penguins %>%\n",
        "   select(-year)"
      ],
      "execution_count": null,
      "outputs": []
    },
    {
      "cell_type": "markdown",
      "metadata": {
        "id": "20BNw5w-A7x-"
      },
      "source": [
        "Only include columns that contain \"mm\" in the variable name."
      ]
    },
    {
      "cell_type": "code",
      "metadata": {
        "id": "goNoPRn4BJJ1"
      },
      "source": [
        "select(penguins, contains(\"mm\"))"
      ],
      "execution_count": null,
      "outputs": []
    },
    {
      "cell_type": "code",
      "metadata": {
        "id": "iJjWoOkJIMQ4"
      },
      "source": [
        "penguins %>%\n",
        "   select(contains(\"mm\"))"
      ],
      "execution_count": null,
      "outputs": []
    },
    {
      "cell_type": "markdown",
      "metadata": {
        "id": "SgiR5ixQsP8h"
      },
      "source": [
        "## Task 4\n",
        "\n",
        "Rename `island` to `location`."
      ]
    },
    {
      "cell_type": "code",
      "metadata": {
        "id": "rkDE8FfTsP8i"
      },
      "source": [
        "select(penguins, location = island)"
      ],
      "execution_count": null,
      "outputs": []
    },
    {
      "cell_type": "code",
      "metadata": {
        "id": "W4EYWpb9ITQT"
      },
      "source": [
        "penguins %>%\n",
        "   rename(location = island)"
      ],
      "execution_count": null,
      "outputs": []
    },
    {
      "cell_type": "markdown",
      "metadata": {
        "id": "HdkN4uDTsP8j"
      },
      "source": [
        "## Task 5\n",
        "\n",
        "Filter the data so that `species` only includes `Chinstrap`."
      ]
    },
    {
      "cell_type": "code",
      "metadata": {
        "id": "BKS2r98psP8k"
      },
      "source": [
        "filter(penguins, species == \"Chinstrap\")"
      ],
      "execution_count": null,
      "outputs": []
    },
    {
      "cell_type": "code",
      "metadata": {
        "id": "IFcJMmOuIh2t"
      },
      "source": [
        "penguins %>%\n",
        "   filter(species == \"Chinstrap\")"
      ],
      "execution_count": null,
      "outputs": []
    },
    {
      "cell_type": "markdown",
      "metadata": {
        "id": "t5sEFmqljdRg"
      },
      "source": [
        "Filter the data so that `species` only includes `Chinstrap` or `Gentoo`.\n",
        "\n",
        "\n"
      ]
    },
    {
      "cell_type": "code",
      "metadata": {
        "id": "jen42fbqjm7f"
      },
      "source": [
        "filter(penguins, species %in% c(\"Chinstrap\", \"Gentoo\"))"
      ],
      "execution_count": null,
      "outputs": []
    },
    {
      "cell_type": "code",
      "metadata": {
        "id": "6Nnqs9XzIlmu"
      },
      "source": [
        "penguins %>%\n",
        "   filter(species %in% c(\"Chinstrap\", \"Gentoo\"))"
      ],
      "execution_count": null,
      "outputs": []
    },
    {
      "cell_type": "markdown",
      "metadata": {
        "id": "keuew_VHjntD"
      },
      "source": [
        "Filter the data so it includes only penguins that are `male` *and* of the species `Adelie`."
      ]
    },
    {
      "cell_type": "code",
      "metadata": {
        "id": "XpXNo3Pej6TA"
      },
      "source": [
        "filter(penguins, sex == \"male\" & species == \"Adelie\")"
      ],
      "execution_count": null,
      "outputs": []
    },
    {
      "cell_type": "code",
      "metadata": {
        "id": "rodCJmjbIzMW"
      },
      "source": [
        "penguins %>%\n",
        "   filter(sex == \"male\" & species == \"Adelie\")"
      ],
      "execution_count": null,
      "outputs": []
    },
    {
      "cell_type": "markdown",
      "metadata": {
        "id": "-6N6epfdsP8w"
      },
      "source": [
        "## Task 6\n",
        "\n",
        "Create three new variables that calculates `bill_length_mm` and `bill_depth_mm` and `flipper_length_mm` from milimeter to centimeter.\n",
        "  \n",
        "Tip: divide the length value by 10.\n"
      ]
    },
    {
      "cell_type": "code",
      "metadata": {
        "id": "iRr-df5wI4fq"
      },
      "source": [
        "mutate(penguins, \n",
        "      bill_length_cm = bill_length_mm/10,\n",
        "      bill_depth_cm = bill_depth_mm/10,\n",
        "      flipper_length_cm = flipper_length_mm/10\n",
        ")"
      ],
      "execution_count": null,
      "outputs": []
    },
    {
      "cell_type": "code",
      "metadata": {
        "id": "hB5hs7XRJTT1"
      },
      "source": [
        "penguins %>%\n",
        "   mutate(bill_length_cm = bill_length_mm/10,\n",
        "          bill_depth_cm = bill_depth_mm/10,\n",
        "          flipper_length_cm = flipper_length_mm/10)"
      ],
      "execution_count": null,
      "outputs": []
    },
    {
      "cell_type": "markdown",
      "metadata": {
        "id": "DD3EQX33Pmqg"
      },
      "source": [
        "Create a new variable called `bill_depth_cat` which has two values:\n",
        "\n",
        "* Everything above a bill depth of 18mm and 18mm itself is \"high\"\n",
        "* Everything below a bill depth of 18mm is \"low\""
      ]
    },
    {
      "cell_type": "code",
      "metadata": {
        "id": "imFVdFmTJncm"
      },
      "source": [
        "mutate(penguins, bill_depth_cat = ifelse(bill_depth_mm >= 18, \"high\", \"low\"))"
      ],
      "execution_count": null,
      "outputs": []
    },
    {
      "cell_type": "code",
      "metadata": {
        "id": "pR1uMdTnQMAU"
      },
      "source": [
        "penguins %>%\n",
        "   mutate(bill_depth_cat = ifelse(bill_depth_mm >= 18, \"high\", \"low\"))"
      ],
      "execution_count": null,
      "outputs": []
    },
    {
      "cell_type": "markdown",
      "metadata": {
        "id": "TVHxG2IqQvxF"
      },
      "source": [
        "Create a new variable called `species_short`.\n",
        "\n",
        "* `Adelie` should become `A`\n",
        "* `Chinstrap` should become `C`\n",
        "* `Gentoo` should become `G`"
      ]
    },
    {
      "cell_type": "code",
      "metadata": {
        "id": "-xtWUJftRMHZ"
      },
      "source": [
        "mutate(penguins, \n",
        "        island_short = case_when(\n",
        "          species == \"Adelie\"  ~ \"A\",\n",
        "          species == \"Chinstrap\"  ~ \"C\",\n",
        "          species == \"Gentoo\"  ~ \"G\",\n",
        "        ))"
      ],
      "execution_count": null,
      "outputs": []
    },
    {
      "cell_type": "code",
      "metadata": {
        "id": "fm-kSMIwKEI0"
      },
      "source": [
        "penguins %>% \n",
        "  mutate(island_short = case_when(\n",
        "          species == \"Adelie\"  ~ \"A\",\n",
        "          species == \"Chinstrap\"  ~ \"C\",\n",
        "          species == \"Gentoo\"  ~ \"G\",\n",
        "      ))"
      ],
      "execution_count": null,
      "outputs": []
    },
    {
      "cell_type": "markdown",
      "metadata": {
        "id": "BUe3ga9WsP86"
      },
      "source": [
        "## Task 7\n",
        "\n",
        "Calculate the average `body_mass_g` per `island`.\n",
        "\n"
      ]
    },
    {
      "cell_type": "code",
      "metadata": {
        "id": "3vP0o_-IsP87"
      },
      "source": [
        "grouped_by_island <- group_by(penguins, island) \n",
        "\n",
        "summarise(grouped_by_island, avg_body_mass_g = mean(body_mass_g, na.rm = T))"
      ],
      "execution_count": null,
      "outputs": []
    },
    {
      "cell_type": "markdown",
      "metadata": {
        "id": "VnoU7FuZlMCp"
      },
      "source": [
        "If you haven't done so already, try using the `%>%` operator to do this."
      ]
    },
    {
      "cell_type": "code",
      "metadata": {
        "id": "WKiQUfy1lQex"
      },
      "source": [
        "penguins %>% \n",
        "   group_by(island) %>%\n",
        "   summarise(avg_body_mass_g = mean(body_mass_g, na.rm = T))"
      ],
      "execution_count": null,
      "outputs": []
    },
    {
      "cell_type": "markdown",
      "metadata": {
        "id": "oSm-AStBkwQm"
      },
      "source": [
        "## Task 8\n",
        "\n",
        "Use the pipe operator (`%>%`) to do all the operations below.\n",
        "\n",
        "\n",
        "\n",
        "1. Filter the `penguins` data so that it only includes `Chinstrap` or `Adelie`.\n",
        "2. Rename `sex` to `observed_sex`\n",
        "3. Only keep the variables `species`, `observed_sex`, `bill_length_mm` and `bill_depth_mm`\n",
        "4. Calculate the ratio between `bill_length_mm` and `bill_depth_mm`\n",
        "5. Sort the data by the highest ratio\n",
        "\n",
        "Try to create the pipe step by step and execute code as you go to see if it works.\n",
        "\n",
        "Once you are done, assign the data to `new_penguins`.\n"
      ]
    },
    {
      "cell_type": "code",
      "metadata": {
        "id": "BdIIdH7UmH15"
      },
      "source": [
        "penguins %>% \n",
        "   filter(species %in% c(\"Chinstrap\", \"Adelie\")) %>%\n",
        "   rename(observed_sex = sex) %>%\n",
        "   select(species, observed_sex, bill_length_mm, bill_depth_mm) %>%\n",
        "   mutate(ratio = bill_length_mm/bill_depth_mm) %>%\n",
        "   arrange(desc(ratio))"
      ],
      "execution_count": null,
      "outputs": []
    },
    {
      "cell_type": "markdown",
      "metadata": {
        "id": "0KaXi2pVmIhA"
      },
      "source": [
        "Calculate the average ratio by `species` and `sex`, again using pipes."
      ]
    },
    {
      "cell_type": "code",
      "metadata": {
        "id": "T5Crc7cWmglO"
      },
      "source": [
        "penguins %>% \n",
        "   group_by(island, sex) %>%\n",
        "   summarise(avg_body_mass_g = mean(body_mass_g, na.rm = T))"
      ],
      "execution_count": null,
      "outputs": []
    },
    {
      "cell_type": "markdown",
      "metadata": {
        "id": "OtlIgudJBuDV"
      },
      "source": [
        "## Task 9"
      ]
    },
    {
      "cell_type": "markdown",
      "metadata": {
        "id": "uSjyewRlBx-d"
      },
      "source": [
        "Count the number of penguins by island and species."
      ]
    },
    {
      "cell_type": "code",
      "metadata": {
        "id": "6KtvbYstBw2S"
      },
      "source": [
        "penguins %>%\n",
        "  count(island, species)"
      ],
      "execution_count": null,
      "outputs": []
    },
    {
      "cell_type": "markdown",
      "metadata": {
        "id": "M331vffTB3eH"
      },
      "source": [
        "## Task 10\n",
        "\n",
        "Below is a dataset that needs some cleaning.\n",
        "\n",
        "Use the skills that you have learned so far to turn the data into a tidy dataset."
      ]
    },
    {
      "cell_type": "code",
      "metadata": {
        "id": "i44CF-cAB7Ku"
      },
      "source": [
        "animal_friends <- tibble(\n",
        "  Names = c(\"Francis\", \"Catniss\", \"Theodor\", \"Eugenia\"),\n",
        "  TheAnimals = c(\"Dog\", \"Cat\", \"Hamster\", \"Rabbit\"),\n",
        "  Sex = c(\"m\", \"f\", \"m\", \"f\"),\n",
        "  a_opterr = c(\"me\", \"me\", \"me\", \"me\"),\n",
        "  `Age/Adopted/Condition` = c(\"8/2020/Very Good\", \"13/2019/Wild\", \"1/2021/Fair\", \"2/2020/Good\")    \n",
        ") "
      ],
      "execution_count": null,
      "outputs": []
    },
    {
      "cell_type": "markdown",
      "metadata": {
        "id": "-6Pgv5_JZLLp"
      },
      "source": [
        "Start here:"
      ]
    },
    {
      "cell_type": "code",
      "metadata": {
        "id": "Ih11dfMVZKOL"
      },
      "source": [
        "tidy_animal_friends <- animal_friends %>%\n",
        "  ## first clean the names\n",
        "  clean_names() %>%\n",
        "  ## rename some variables\n",
        "  rename(adopter = a_opterr,\n",
        "         animals = the_animals) %>%\n",
        "  remove_constant() %>%\n",
        "  separate(age_adopted_condition, sep = \"/\", c(\"age\", \"year_adopted\", \"condition\")) "
      ],
      "execution_count": null,
      "outputs": []
    },
    {
      "cell_type": "code",
      "metadata": {
        "colab": {
          "base_uri": "https://localhost:8080/",
          "height": 223
        },
        "id": "FpznkC3Jq8Ro",
        "outputId": "bf31d73d-f6ec-422b-bab8-4ed86f635eb6"
      },
      "source": [
        "tidy_animal_friends"
      ],
      "execution_count": null,
      "outputs": [
        {
          "output_type": "display_data",
          "data": {
            "text/plain": [
              "  names   animals sex age year_adopted condition\n",
              "1 Francis Dog     m   8   2020         Very Good\n",
              "2 Catniss Cat     f   13  2019         Wild     \n",
              "3 Theodor Hamster m   1   2021         Fair     \n",
              "4 Eugenia Rabbit  f   2   2020         Good     "
            ],
            "text/latex": "A tibble: 4 × 6\n\\begin{tabular}{llllll}\n names & animals & sex & age & year\\_adopted & condition\\\\\n <chr> & <chr> & <chr> & <chr> & <chr> & <chr>\\\\\n\\hline\n\t Francis & Dog     & m & 8  & 2020 & Very Good\\\\\n\t Catniss & Cat     & f & 13 & 2019 & Wild     \\\\\n\t Theodor & Hamster & m & 1  & 2021 & Fair     \\\\\n\t Eugenia & Rabbit  & f & 2  & 2020 & Good     \\\\\n\\end{tabular}\n",
            "text/markdown": "\nA tibble: 4 × 6\n\n| names &lt;chr&gt; | animals &lt;chr&gt; | sex &lt;chr&gt; | age &lt;chr&gt; | year_adopted &lt;chr&gt; | condition &lt;chr&gt; |\n|---|---|---|---|---|---|\n| Francis | Dog     | m | 8  | 2020 | Very Good |\n| Catniss | Cat     | f | 13 | 2019 | Wild      |\n| Theodor | Hamster | m | 1  | 2021 | Fair      |\n| Eugenia | Rabbit  | f | 2  | 2020 | Good      |\n\n",
            "text/html": [
              "<table class=\"dataframe\">\n",
              "<caption>A tibble: 4 × 6</caption>\n",
              "<thead>\n",
              "\t<tr><th scope=col>names</th><th scope=col>animals</th><th scope=col>sex</th><th scope=col>age</th><th scope=col>year_adopted</th><th scope=col>condition</th></tr>\n",
              "\t<tr><th scope=col>&lt;chr&gt;</th><th scope=col>&lt;chr&gt;</th><th scope=col>&lt;chr&gt;</th><th scope=col>&lt;chr&gt;</th><th scope=col>&lt;chr&gt;</th><th scope=col>&lt;chr&gt;</th></tr>\n",
              "</thead>\n",
              "<tbody>\n",
              "\t<tr><td>Francis</td><td>Dog    </td><td>m</td><td>8 </td><td>2020</td><td>Very Good</td></tr>\n",
              "\t<tr><td>Catniss</td><td>Cat    </td><td>f</td><td>13</td><td>2019</td><td>Wild     </td></tr>\n",
              "\t<tr><td>Theodor</td><td>Hamster</td><td>m</td><td>1 </td><td>2021</td><td>Fair     </td></tr>\n",
              "\t<tr><td>Eugenia</td><td>Rabbit </td><td>f</td><td>2 </td><td>2020</td><td>Good     </td></tr>\n",
              "</tbody>\n",
              "</table>\n"
            ]
          },
          "metadata": {
            "tags": []
          }
        }
      ]
    },
    {
      "cell_type": "markdown",
      "metadata": {
        "id": "Z5CA9GVsGalF"
      },
      "source": [
        "If you are done, turn the final data into long format."
      ]
    },
    {
      "cell_type": "code",
      "metadata": {
        "id": "RXTIX97xFKIQ",
        "colab": {
          "base_uri": "https://localhost:8080/",
          "height": 600
        },
        "outputId": "6464757c-0df3-4ce9-a80a-e64d79b1f6ed"
      },
      "source": [
        "tidy_animal_friends %>%\n",
        "  pivot_longer(cols = c(sex, age, year_adopted, condition))"
      ],
      "execution_count": null,
      "outputs": [
        {
          "output_type": "display_data",
          "data": {
            "text/plain": [
              "   names   animals name         value    \n",
              "1  Francis Dog     sex          m        \n",
              "2  Francis Dog     age          8        \n",
              "3  Francis Dog     year_adopted 2020     \n",
              "4  Francis Dog     condition    Very Good\n",
              "5  Catniss Cat     sex          f        \n",
              "6  Catniss Cat     age          13       \n",
              "7  Catniss Cat     year_adopted 2019     \n",
              "8  Catniss Cat     condition    Wild     \n",
              "9  Theodor Hamster sex          m        \n",
              "10 Theodor Hamster age          1        \n",
              "11 Theodor Hamster year_adopted 2021     \n",
              "12 Theodor Hamster condition    Fair     \n",
              "13 Eugenia Rabbit  sex          f        \n",
              "14 Eugenia Rabbit  age          2        \n",
              "15 Eugenia Rabbit  year_adopted 2020     \n",
              "16 Eugenia Rabbit  condition    Good     "
            ],
            "text/latex": "A tibble: 16 × 4\n\\begin{tabular}{llll}\n names & animals & name & value\\\\\n <chr> & <chr> & <chr> & <chr>\\\\\n\\hline\n\t Francis & Dog     & sex          & m        \\\\\n\t Francis & Dog     & age          & 8        \\\\\n\t Francis & Dog     & year\\_adopted & 2020     \\\\\n\t Francis & Dog     & condition    & Very Good\\\\\n\t Catniss & Cat     & sex          & f        \\\\\n\t Catniss & Cat     & age          & 13       \\\\\n\t Catniss & Cat     & year\\_adopted & 2019     \\\\\n\t Catniss & Cat     & condition    & Wild     \\\\\n\t Theodor & Hamster & sex          & m        \\\\\n\t Theodor & Hamster & age          & 1        \\\\\n\t Theodor & Hamster & year\\_adopted & 2021     \\\\\n\t Theodor & Hamster & condition    & Fair     \\\\\n\t Eugenia & Rabbit  & sex          & f        \\\\\n\t Eugenia & Rabbit  & age          & 2        \\\\\n\t Eugenia & Rabbit  & year\\_adopted & 2020     \\\\\n\t Eugenia & Rabbit  & condition    & Good     \\\\\n\\end{tabular}\n",
            "text/markdown": "\nA tibble: 16 × 4\n\n| names &lt;chr&gt; | animals &lt;chr&gt; | name &lt;chr&gt; | value &lt;chr&gt; |\n|---|---|---|---|\n| Francis | Dog     | sex          | m         |\n| Francis | Dog     | age          | 8         |\n| Francis | Dog     | year_adopted | 2020      |\n| Francis | Dog     | condition    | Very Good |\n| Catniss | Cat     | sex          | f         |\n| Catniss | Cat     | age          | 13        |\n| Catniss | Cat     | year_adopted | 2019      |\n| Catniss | Cat     | condition    | Wild      |\n| Theodor | Hamster | sex          | m         |\n| Theodor | Hamster | age          | 1         |\n| Theodor | Hamster | year_adopted | 2021      |\n| Theodor | Hamster | condition    | Fair      |\n| Eugenia | Rabbit  | sex          | f         |\n| Eugenia | Rabbit  | age          | 2         |\n| Eugenia | Rabbit  | year_adopted | 2020      |\n| Eugenia | Rabbit  | condition    | Good      |\n\n",
            "text/html": [
              "<table class=\"dataframe\">\n",
              "<caption>A tibble: 16 × 4</caption>\n",
              "<thead>\n",
              "\t<tr><th scope=col>names</th><th scope=col>animals</th><th scope=col>name</th><th scope=col>value</th></tr>\n",
              "\t<tr><th scope=col>&lt;chr&gt;</th><th scope=col>&lt;chr&gt;</th><th scope=col>&lt;chr&gt;</th><th scope=col>&lt;chr&gt;</th></tr>\n",
              "</thead>\n",
              "<tbody>\n",
              "\t<tr><td>Francis</td><td>Dog    </td><td>sex         </td><td>m        </td></tr>\n",
              "\t<tr><td>Francis</td><td>Dog    </td><td>age         </td><td>8        </td></tr>\n",
              "\t<tr><td>Francis</td><td>Dog    </td><td>year_adopted</td><td>2020     </td></tr>\n",
              "\t<tr><td>Francis</td><td>Dog    </td><td>condition   </td><td>Very Good</td></tr>\n",
              "\t<tr><td>Catniss</td><td>Cat    </td><td>sex         </td><td>f        </td></tr>\n",
              "\t<tr><td>Catniss</td><td>Cat    </td><td>age         </td><td>13       </td></tr>\n",
              "\t<tr><td>Catniss</td><td>Cat    </td><td>year_adopted</td><td>2019     </td></tr>\n",
              "\t<tr><td>Catniss</td><td>Cat    </td><td>condition   </td><td>Wild     </td></tr>\n",
              "\t<tr><td>Theodor</td><td>Hamster</td><td>sex         </td><td>m        </td></tr>\n",
              "\t<tr><td>Theodor</td><td>Hamster</td><td>age         </td><td>1        </td></tr>\n",
              "\t<tr><td>Theodor</td><td>Hamster</td><td>year_adopted</td><td>2021     </td></tr>\n",
              "\t<tr><td>Theodor</td><td>Hamster</td><td>condition   </td><td>Fair     </td></tr>\n",
              "\t<tr><td>Eugenia</td><td>Rabbit </td><td>sex         </td><td>f        </td></tr>\n",
              "\t<tr><td>Eugenia</td><td>Rabbit </td><td>age         </td><td>2        </td></tr>\n",
              "\t<tr><td>Eugenia</td><td>Rabbit </td><td>year_adopted</td><td>2020     </td></tr>\n",
              "\t<tr><td>Eugenia</td><td>Rabbit </td><td>condition   </td><td>Good     </td></tr>\n",
              "</tbody>\n",
              "</table>\n"
            ]
          },
          "metadata": {
            "tags": []
          }
        }
      ]
    },
    {
      "cell_type": "markdown",
      "metadata": {
        "id": "a5Bzv59Vo-82"
      },
      "source": [
        "# If else statements\n",
        "\n",
        "\n",
        "Sometimes we want to make output dependent on the input. \n",
        "\n",
        "This allows us to create very powerful and dynamic functions that can take multiple kinds of inputs and turn them into multiple kinds of outputs.\n",
        "\n",
        "We do this using **`if`** and **`else`** statements within our function calls.\n",
        "\n",
        "By using the following template:\n",
        "\n",
        "$\\text{if}(\\color{orange}{\\text{condition1}})${\n",
        "\n",
        "\n",
        "> $\\color{grey}{\\text{# if }}$ $\\color{orange}{\\text{condition1}}$ $\\color{grey}{\\text{is TRUE}}$\n",
        "\n",
        "> $\\color{green}{\\text{code}}$\n",
        "\n",
        "> $\\color{green}{\\text{...}}$\n",
        "\n",
        "\n",
        "} $\\text{else if}(\\color{blue}{\\text{condition2}})${\n",
        "\n",
        "> $\\color{grey}{\\text{# if }}$ $\\color{blue}{\\text{condition2}}$ $\\color{grey}{\\text{is TRUE}}$\n",
        "\n",
        "> $\\color{green}{\\text{code}}$\n",
        "\n",
        "> $\\color{green}{\\text{...}}$\n",
        "\n",
        "\n",
        "} $\\text{else}${\n",
        "\n",
        "> $\\color{grey}{\\text{# if all conditions above are FALSE}}$\n",
        "\n",
        "> $\\color{green}{\\text{code}}$\n",
        "\n",
        "> $\\color{green}{\\text{...}}$\n",
        "\n",
        "}\n",
        "\n"
      ]
    },
    {
      "cell_type": "markdown",
      "metadata": {
        "id": "mjPpmYvP0Ze3"
      },
      "source": [
        "## Example \n",
        "\n",
        "\n",
        "Here is an example:"
      ]
    },
    {
      "cell_type": "code",
      "metadata": {
        "id": "BdApZtrSxFQf"
      },
      "source": [
        "greet_me <- function(language = \"english\") { \n",
        "  \n",
        "  if(language == \"english\"){\n",
        "\n",
        "    # if language is english\n",
        "    greeting <- \"Hi!\"\n",
        "\n",
        "  } else if (language == \"german\"){\n",
        "\n",
        "    # if language is german\n",
        "    greeting <- \"Hallo!\"\n",
        "\n",
        "  } else if (language == \"texan\"){\n",
        "\n",
        "    # if language is texan\n",
        "    greeting <- \"Howdy!\"\n",
        "\n",
        "  } else if (language == \"dothraki\"){\n",
        "\n",
        "    # if language is dothraki\n",
        "    greeting <- \"M'ath!\"\n",
        "\n",
        "  } else {\n",
        "\n",
        "    # if not known (all evalulate to false)\n",
        "    greeting <- \"Sorry, I don't know how to greet you.\"\n",
        "\n",
        "  }\n",
        "\n",
        "  return(cat(greeting))\n",
        "  \n",
        "}"
      ],
      "execution_count": null,
      "outputs": []
    },
    {
      "cell_type": "code",
      "metadata": {
        "colab": {
          "base_uri": "https://localhost:8080/"
        },
        "id": "u0SJbtw6y4qA",
        "outputId": "f51690f5-810b-4e14-e506-a8cc68a2cbf5"
      },
      "source": [
        "greet_me(language = \"spanish\")"
      ],
      "execution_count": null,
      "outputs": [
        {
          "output_type": "stream",
          "text": [
            "Sorry, I don't know how to greet you."
          ],
          "name": "stdout"
        }
      ]
    },
    {
      "cell_type": "markdown",
      "metadata": {
        "id": "oYJNLLeIz1JX"
      },
      "source": [
        "## Dynamic Animal to Human Years Function\n",
        "\n",
        "Now we can create a *generic* function that takes any kind of animal and caclulates its years in human years.\n",
        "\n",
        "We need two arguments:\n",
        "\n",
        "* `animal_years` is the input for how old the anima lis\n",
        "* `animal` specifies which kind of animal we are talking about\n",
        "\n",
        "Now we are ready to go:"
      ]
    },
    {
      "cell_type": "code",
      "metadata": {
        "id": "VgdB-tdmpCAj"
      },
      "source": [
        "animal_to_human_years <- function(animal_years, animal){\n",
        "  \n",
        "  human_lifespan <- 122.5\n",
        "\n",
        "  if(animal == \"dog\"){\n",
        "\n",
        "    animal_lifespan <- 24\n",
        "    \n",
        "  } else {\n",
        "\n",
        "    return(cat(\"Sorry your animal is not implemented yet!\"))\n",
        "\n",
        "  }\n",
        "\n",
        "  ratio <-  human_lifespan / animal_lifespan    \n",
        "\n",
        "  result <- animal_years*ratio\n",
        "\n",
        "  return(result)\n",
        "}"
      ],
      "execution_count": null,
      "outputs": []
    },
    {
      "cell_type": "code",
      "metadata": {
        "colab": {
          "base_uri": "https://localhost:8080/"
        },
        "id": "OQize5y1pRoN",
        "outputId": "e4996a94-d095-4616-9476-59e1ba0449ae"
      },
      "source": [
        "animal_to_human_years(15, \"fish\")"
      ],
      "execution_count": null,
      "outputs": [
        {
          "output_type": "stream",
          "text": [
            "Sorry your animal is not implemented yet!"
          ],
          "name": "stdout"
        }
      ]
    }
  ]
}